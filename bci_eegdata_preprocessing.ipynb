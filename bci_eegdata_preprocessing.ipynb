{
  "nbformat": 4,
  "nbformat_minor": 0,
  "metadata": {
    "colab": {
      "name": "eegdata_analysis.ipynb",
      "provenance": [],
      "private_outputs": true,
      "collapsed_sections": []
    },
    "kernelspec": {
      "name": "python3",
      "display_name": "Python 3"
    }
  },
  "cells": [
    {
      "cell_type": "code",
      "metadata": {
        "id": "2SyqiOCpakGv",
        "colab_type": "code",
        "colab": {}
      },
      "source": [
        "from google.colab import drive\n",
        "drive.mount('/content/drive')"
      ],
      "execution_count": null,
      "outputs": []
    },
    {
      "cell_type": "code",
      "metadata": {
        "id": "mbEbFrjkcNMJ",
        "colab_type": "code",
        "colab": {}
      },
      "source": [
        "pip install mne"
      ],
      "execution_count": null,
      "outputs": []
    },
    {
      "cell_type": "code",
      "metadata": {
        "id": "oBfAtbzFbY2B",
        "colab_type": "code",
        "colab": {}
      },
      "source": [
        "\n",
        "import os\n",
        "import numpy as np\n",
        "import mne\n",
        "from mne.channels import compute_native_head_t, read_custom_montage\n",
        "from mne.viz import plot_alignment\n",
        "from scipy import signal\n",
        "\n",
        "# sample_data_folder = mne.datasets.sample.data_path()"
      ],
      "execution_count": null,
      "outputs": []
    },
    {
      "cell_type": "code",
      "metadata": {
        "id": "t3MFrazYPLYj",
        "colab_type": "code",
        "colab": {}
      },
      "source": [
        "# fine_cal_file = os.path.join(sample_data_folder, 'SSS', 'sss_cal_mgh.dat')\n",
        "# crosstalk_file = os.path.join(sample_data_folder, 'SSS', 'ct_sparse_mgh.fif')"
      ],
      "execution_count": null,
      "outputs": []
    },
    {
      "cell_type": "code",
      "metadata": {
        "id": "WGHzolTMNoPt",
        "colab_type": "code",
        "colab": {}
      },
      "source": [
        "# DATA LOAD"
      ],
      "execution_count": null,
      "outputs": []
    },
    {
      "cell_type": "code",
      "metadata": {
        "id": "tBGzCrmdzKao",
        "colab_type": "code",
        "colab": {}
      },
      "source": [
        "path = '/content/drive/My Drive/coding/data/EEGdata/data'\n",
        "file_list = os.listdir(path)\n",
        "data_list = file_list[1:]\n",
        "# data_list"
      ],
      "execution_count": null,
      "outputs": []
    },
    {
      "cell_type": "code",
      "metadata": {
        "id": "_m1jQbYscJre",
        "colab_type": "code",
        "colab": {}
      },
      "source": [
        "raw = mne.io.read_raw_edf(\"/content/drive/My Drive/coding/data/EEGdata/data/p5_lev1_no_M_raw.edf\",preload=True)\n",
        "loc = mne.channels.read_custom_montage(\"/content/drive/My Drive/coding/data/EEGdata/data/DSI_channelLocs.locs\") \n",
        "mne.set_log_level(\"WARNING\")"
      ],
      "execution_count": null,
      "outputs": []
    },
    {
      "cell_type": "code",
      "metadata": {
        "id": "89oSXgCU2Dmn",
        "colab_type": "code",
        "colab": {}
      },
      "source": [
        "loc.plot() # checking the loc we use"
      ],
      "execution_count": null,
      "outputs": []
    },
    {
      "cell_type": "code",
      "metadata": {
        "id": "of3bj5or7Plv",
        "colab_type": "code",
        "colab": {}
      },
      "source": [
        "# loc.ch_names"
      ],
      "execution_count": null,
      "outputs": []
    },
    {
      "cell_type": "code",
      "metadata": {
        "id": "umJcKcMydpba",
        "colab_type": "code",
        "colab": {}
      },
      "source": [
        "print(raw)\n",
        "print(raw.info)"
      ],
      "execution_count": null,
      "outputs": []
    },
    {
      "cell_type": "code",
      "metadata": {
        "id": "MqmxSfpiYhgN",
        "colab_type": "code",
        "colab": {}
      },
      "source": [
        "raw.info['bads']"
      ],
      "execution_count": null,
      "outputs": []
    },
    {
      "cell_type": "code",
      "metadata": {
        "id": "PLseALtO8aaY",
        "colab_type": "code",
        "colab": {}
      },
      "source": [
        "channels = raw.ch_names\n",
        "print(channels[0:19])\n",
        "change_ch = ['Fp1', 'Fp2', 'F7', 'F3', 'Fz', 'F4', 'F8', 'T7', 'C3', 'Cz', 'C4', 'T8', 'P7', 'P3', 'Pz', 'P4', 'P8', 'O1', 'O2']\n",
        "print(loc.ch_names)"
      ],
      "execution_count": null,
      "outputs": []
    },
    {
      "cell_type": "code",
      "metadata": {
        "id": "CIZPi1ERebNL",
        "colab_type": "code",
        "colab": {}
      },
      "source": [
        "# data = .get_data()"
      ],
      "execution_count": null,
      "outputs": []
    },
    {
      "cell_type": "code",
      "metadata": {
        "id": "MQvZuDd36Xnk",
        "colab_type": "code",
        "colab": {}
      },
      "source": [
        "chns = raw.info[\"ch_names\"][0:19]\n",
        "print(chns)\n",
        "\n",
        "raw1 = raw.copy().pick_channels(chns) # exclude the stimulus chn\n",
        "raw1.info"
      ],
      "execution_count": null,
      "outputs": []
    },
    {
      "cell_type": "code",
      "metadata": {
        "id": "nanCPiIHBV7w",
        "colab_type": "code",
        "colab": {}
      },
      "source": [
        "    for i,k in zip(chns, change_ch) :\n",
        "        mne.channels.rename_channels(raw1.info, {str(i):str(k)} ) # change the ch names to match the loc information"
      ],
      "execution_count": null,
      "outputs": []
    },
    {
      "cell_type": "code",
      "metadata": {
        "id": "9jDoCgB070mv",
        "colab_type": "code",
        "colab": {}
      },
      "source": [
        "raw1.info"
      ],
      "execution_count": null,
      "outputs": []
    },
    {
      "cell_type": "code",
      "metadata": {
        "id": "hXVDcRr8_L1k",
        "colab_type": "code",
        "colab": {}
      },
      "source": [
        "print(raw1.info.ch_names)\n",
        "print(loc.ch_names)"
      ],
      "execution_count": null,
      "outputs": []
    },
    {
      "cell_type": "code",
      "metadata": {
        "id": "0-FYoBGiNmks",
        "colab_type": "code",
        "colab": {}
      },
      "source": [
        "raw1.set_montage(loc)\n",
        "raw1.info\n",
        "raw1.info['dig'] # check fot loc info injected "
      ],
      "execution_count": null,
      "outputs": []
    },
    {
      "cell_type": "code",
      "metadata": {
        "id": "YmLFwD_0_yBS",
        "colab_type": "code",
        "colab": {}
      },
      "source": [
        "pick_feats = ['Fp1 - Vref', 'Fp2 - Vref', 'F7 - Vref', 'F3 - Vref', \n",
        "         'Fz - Vref', 'F4 - Vref', 'F8 - Vref', 'T3 - Vref', \n",
        "         'C3 - Vref', 'Cz - Vref', 'C4 - Vref', 'T4 - Vref', \n",
        "         'P3 - Vref', 'Pz - Vref', 'P4 - Vref'] \n",
        "         \n",
        "# exclude bads chans though plotting in below process"
      ],
      "execution_count": null,
      "outputs": []
    },
    {
      "cell_type": "code",
      "metadata": {
        "id": "5RLU8x14rwMt",
        "colab_type": "code",
        "colab": {}
      },
      "source": [
        "# raw1.plot(lowpass=20, n_channels=21, highpass=1 ,duration=100)"
      ],
      "execution_count": null,
      "outputs": []
    },
    {
      "cell_type": "code",
      "metadata": {
        "id": "Yk_tenPvUctI",
        "colab_type": "code",
        "colab": {}
      },
      "source": [
        "# bads = ['P7', 'P8', 'O1', 'O2'] # Can identify bad(noisy) channels"
      ],
      "execution_count": null,
      "outputs": []
    },
    {
      "cell_type": "code",
      "metadata": {
        "id": "zDdqdDaJlbdK",
        "colab_type": "code",
        "colab": {}
      },
      "source": [
        "# # bads = ['P7', 'P8', 'O1', 'O2'] # Can identify bad(noisy) channels\n",
        "# raw1.info['bads']=bads\n",
        "# raw1.info"
      ],
      "execution_count": null,
      "outputs": []
    },
    {
      "cell_type": "code",
      "metadata": {
        "id": "UdTkMPnusBKH",
        "colab_type": "code",
        "colab": {}
      },
      "source": [
        "# raw1.plot(block=True, lowpass=100, n_channels=21 ,scalings='auto') \n",
        "# Can check the bad chns append or not"
      ],
      "execution_count": null,
      "outputs": []
    },
    {
      "cell_type": "code",
      "metadata": {
        "id": "oV3eTY-2CdEw",
        "colab_type": "code",
        "colab": {}
      },
      "source": [
        "# picks = mne.pick_types(raw1.info, exclude='bads')"
      ],
      "execution_count": null,
      "outputs": []
    },
    {
      "cell_type": "code",
      "metadata": {
        "id": "5Ts5m-uHu-Y7",
        "colab_type": "code",
        "colab": {}
      },
      "source": [
        "raw1.info"
      ],
      "execution_count": null,
      "outputs": []
    },
    {
      "cell_type": "code",
      "metadata": {
        "id": "8VJfan1P6mil",
        "colab_type": "code",
        "colab": {}
      },
      "source": [
        "raw1.plot_psd()"
      ],
      "execution_count": null,
      "outputs": []
    },
    {
      "cell_type": "code",
      "metadata": {
        "id": "8KXuBL6RChXX",
        "colab_type": "code",
        "colab": {}
      },
      "source": [
        "# pick_raw.plot_psd()"
      ],
      "execution_count": null,
      "outputs": []
    },
    {
      "cell_type": "code",
      "metadata": {
        "id": "c1ns_aIVt-M1",
        "colab_type": "code",
        "colab": {}
      },
      "source": [
        "# raw.info['bads']"
      ],
      "execution_count": null,
      "outputs": []
    },
    {
      "cell_type": "code",
      "metadata": {
        "id": "5sneOaY-Ntui",
        "colab_type": "code",
        "colab": {}
      },
      "source": [
        "# Line Noise Removal (Notch Filter)"
      ],
      "execution_count": null,
      "outputs": []
    },
    {
      "cell_type": "code",
      "metadata": {
        "id": "Q4XXL1R2xwU_",
        "colab_type": "code",
        "colab": {}
      },
      "source": [
        "np.arange(60,185,60)"
      ],
      "execution_count": null,
      "outputs": []
    },
    {
      "cell_type": "code",
      "metadata": {
        "id": "1jzKGwzOvo0L",
        "colab_type": "code",
        "colab": {}
      },
      "source": [
        "raw_nf = raw1.copy().notch_filter(np.arange(60,180,60)) # Notch filtering to remove 60 hz and its multiples"
      ],
      "execution_count": null,
      "outputs": []
    },
    {
      "cell_type": "code",
      "metadata": {
        "id": "h0uysYFFCmWc",
        "colab_type": "code",
        "colab": {}
      },
      "source": [
        "# pick_raw_nf = pick_raw.copy().notch_filter(np.arange(60,180,60)) # Notch filtering to remove 60 hz and its multiples"
      ],
      "execution_count": null,
      "outputs": []
    },
    {
      "cell_type": "code",
      "metadata": {
        "id": "lgY1x5z73b6u",
        "colab_type": "code",
        "colab": {}
      },
      "source": [
        "# raw_nf.plot(n_channels=21, highpass=1, lowpass=10 ,duration=120,remove_dc=True)"
      ],
      "execution_count": null,
      "outputs": []
    },
    {
      "cell_type": "code",
      "metadata": {
        "id": "f4GZogABCtBO",
        "colab_type": "code",
        "colab": {}
      },
      "source": [
        "# pick_raw_nf.plot(block=True, lowpass=13 ,scalings='auto')"
      ],
      "execution_count": null,
      "outputs": []
    },
    {
      "cell_type": "code",
      "metadata": {
        "id": "MDnO2uRi6suR",
        "colab_type": "code",
        "colab": {}
      },
      "source": [
        "raw_nf.plot_psd()"
      ],
      "execution_count": null,
      "outputs": []
    },
    {
      "cell_type": "code",
      "metadata": {
        "id": "wmC-OalFC2zU",
        "colab_type": "code",
        "colab": {}
      },
      "source": [
        "# pick_raw_nf.plot_psd()"
      ],
      "execution_count": null,
      "outputs": []
    },
    {
      "cell_type": "code",
      "metadata": {
        "id": "sA3_CeJON3Vq",
        "colab_type": "code",
        "colab": {}
      },
      "source": [
        "# Band Pass Filter"
      ],
      "execution_count": null,
      "outputs": []
    },
    {
      "cell_type": "code",
      "metadata": {
        "id": "hvIwFWr6v3lu",
        "colab_type": "code",
        "colab": {}
      },
      "source": [
        "raw_bp = raw_nf.copy().filter(1, 100, n_jobs=1) # Bandpass filter 1 to 100 hz\n",
        "raw_bp.info"
      ],
      "execution_count": null,
      "outputs": []
    },
    {
      "cell_type": "code",
      "metadata": {
        "id": "ZCH2-8g-MAuN",
        "colab_type": "code",
        "colab": {}
      },
      "source": [
        "# pick_raw_bp = pick_raw_nf.copy().filter(1,100, n_jobs=1) # Bandpass filter 1 to 100 hz\n",
        "# pick_raw_bp.info"
      ],
      "execution_count": null,
      "outputs": []
    },
    {
      "cell_type": "code",
      "metadata": {
        "id": "RYo57-ZLCX0G",
        "colab_type": "code",
        "colab": {}
      },
      "source": [
        "# raw1.info\n",
        "# raw_nf.info\n",
        "# raw_bp.info"
      ],
      "execution_count": null,
      "outputs": []
    },
    {
      "cell_type": "code",
      "metadata": {
        "id": "Mx2RAxyRMa9_",
        "colab_type": "code",
        "colab": {}
      },
      "source": [
        "# pick_raw1.info\n",
        "# pick_raw_nf.info\n",
        "# pick_raw_bp.info"
      ],
      "execution_count": null,
      "outputs": []
    },
    {
      "cell_type": "code",
      "metadata": {
        "id": "8BneGagNmuCS",
        "colab_type": "code",
        "colab": {}
      },
      "source": [
        "raw_bp.plot(duration=60, highpass=4, lowpass=13, start=40)"
      ],
      "execution_count": null,
      "outputs": []
    },
    {
      "cell_type": "code",
      "metadata": {
        "id": "mGHGlCP2Mgx0",
        "colab_type": "code",
        "colab": {}
      },
      "source": [
        "# pick_raw_bp.plot(block=True, lowpass=13, n_channels=21 ,scalings='auto')"
      ],
      "execution_count": null,
      "outputs": []
    },
    {
      "cell_type": "code",
      "metadata": {
        "id": "aD-rQF32yyr1",
        "colab_type": "code",
        "colab": {}
      },
      "source": [
        "raw_bp.plot_psd()"
      ],
      "execution_count": null,
      "outputs": []
    },
    {
      "cell_type": "code",
      "metadata": {
        "id": "WDNEOhuSMpb7",
        "colab_type": "code",
        "colab": {}
      },
      "source": [
        "# pick_raw_bp.plot_psd()"
      ],
      "execution_count": null,
      "outputs": []
    },
    {
      "cell_type": "code",
      "metadata": {
        "id": "Cej9nwR3DCY-",
        "colab_type": "code",
        "colab": {}
      },
      "source": [
        "## Bad Channel Rejection & Interpolate"
      ],
      "execution_count": null,
      "outputs": []
    },
    {
      "cell_type": "code",
      "metadata": {
        "id": "nv4VQzViOwxB",
        "colab_type": "code",
        "colab": {}
      },
      "source": [
        "bads = [ 'Fp1','Fp2', 'O1', 'O2'] # Can identify bad(noisy) channels\n",
        "raw_bcr = raw_bp.copy()\n",
        "raw_bcr.info['bads']=bads\n",
        "print(raw_bcr.info)\n",
        "\n",
        "raw_bcr.plot(duration=60, highpass=4, lowpass=13, start=40)"
      ],
      "execution_count": null,
      "outputs": []
    },
    {
      "cell_type": "code",
      "metadata": {
        "id": "XkQ2wmt-T4iJ",
        "colab_type": "code",
        "colab": {}
      },
      "source": [
        "raw_intp = raw_bcr.copy()\n",
        "raw_intp = raw_intp.interpolate_bads(reset_bads=False) # interpolate bad chns"
      ],
      "execution_count": null,
      "outputs": []
    },
    {
      "cell_type": "code",
      "metadata": {
        "id": "-gNm-uhaDDFd",
        "colab_type": "code",
        "colab": {}
      },
      "source": [
        "eeg_data = raw1.copy()\n",
        "eeg_data_interp = raw_intp.copy()\n",
        "\n",
        "for title, data in zip(['orig.', 'interp.'], [eeg_data, eeg_data_interp]):\n",
        "    fig = data.plot(butterfly=True, color='#00000022',duration=60, start=40, lowpass=13, highpass=4)\n",
        "    fig.subplots_adjust(top=1)\n",
        "    fig.suptitle(title, size='xx-large', weight='bold')"
      ],
      "execution_count": null,
      "outputs": []
    },
    {
      "cell_type": "code",
      "metadata": {
        "id": "vy5ABMqaPf2c",
        "colab_type": "code",
        "colab": {}
      },
      "source": [
        "raw_intp.plot(duration=60, start=40, highpass=4, lowpass=13)"
      ],
      "execution_count": null,
      "outputs": []
    },
    {
      "cell_type": "code",
      "metadata": {
        "id": "eEiU_54OSEZv",
        "colab_type": "code",
        "colab": {}
      },
      "source": [
        "raw_intp.info"
      ],
      "execution_count": null,
      "outputs": []
    },
    {
      "cell_type": "code",
      "metadata": {
        "id": "EQTbjY6rDDY0",
        "colab_type": "code",
        "colab": {}
      },
      "source": [
        "## Re-Referencing"
      ],
      "execution_count": null,
      "outputs": []
    },
    {
      "cell_type": "code",
      "metadata": {
        "id": "uWEBEyhRN-r9",
        "colab_type": "code",
        "colab": {}
      },
      "source": [
        "raw_rf = raw_intp.copy()\n",
        "raw_rf = raw_rf.set_eeg_reference(ref_channels='average')"
      ],
      "execution_count": null,
      "outputs": []
    },
    {
      "cell_type": "code",
      "metadata": {
        "id": "KLBlCiSlP_rK",
        "colab_type": "code",
        "colab": {}
      },
      "source": [
        "raw_rf.plot(duration=60, start=40, highpass=4, lowpass=13)"
      ],
      "execution_count": null,
      "outputs": []
    },
    {
      "cell_type": "code",
      "metadata": {
        "id": "8l2F-SQ6Ot3H",
        "colab_type": "code",
        "colab": {}
      },
      "source": [
        "eeg_data1 = raw1.copy()\n",
        "eeg_data_interp1 = raw_rf.copy()\n",
        "\n",
        "for title, data in zip(['orig.', 'interp.'], [eeg_data1, eeg_data_interp1]):\n",
        "    fig = data.plot(butterfly=True, color='#00000022', duration=60, start=40, highpass=4, lowpass=13)\n",
        "    fig.subplots_adjust(top=1)\n",
        "    fig.suptitle(title, size='xx-large', weight='bold')"
      ],
      "execution_count": null,
      "outputs": []
    },
    {
      "cell_type": "code",
      "metadata": {
        "id": "BesB6Nkybtk9",
        "colab_type": "code",
        "colab": {}
      },
      "source": [
        "## Artefact removal"
      ],
      "execution_count": null,
      "outputs": []
    },
    {
      "cell_type": "code",
      "metadata": {
        "id": "_kTJ6J7yqJAh",
        "colab_type": "code",
        "colab": {}
      },
      "source": [
        "raw_rf.plot(duration=60, start=40, n_channels=19, remove_dc=False, highpass=30, lowpass=100)"
      ],
      "execution_count": null,
      "outputs": []
    },
    {
      "cell_type": "code",
      "metadata": {
        "id": "e7v5jHRgqI1p",
        "colab_type": "code",
        "colab": {}
      },
      "source": [
        "# regexp = ['Fz','F3', 'F4', 'Cz', 'C3', 'C4' 'T7', 'T8', 'P7', 'P8', 'Pz', 'P3', 'P4']\n",
        "# artifact_picks = mne.pick_channels_regexp(raw_rf.ch_names, regexp)"
      ],
      "execution_count": null,
      "outputs": []
    },
    {
      "cell_type": "code",
      "metadata": {
        "id": "xfUpSLjcqIrR",
        "colab_type": "code",
        "colab": {}
      },
      "source": [
        "filt_low = raw_rf.copy()\n",
        "filt_low.load_data().filter(l_freq=1., h_freq=None)"
      ],
      "execution_count": null,
      "outputs": []
    },
    {
      "cell_type": "code",
      "metadata": {
        "id": "oCIN-VtxqIgT",
        "colab_type": "code",
        "colab": {}
      },
      "source": [
        "from mne.preprocessing import (ICA, create_eog_epochs, create_ecg_epochs,\n",
        "                               corrmap)\n",
        "\n",
        "ica = ICA(n_components=13, random_state=97)\n",
        "ica.fit(filt_low)"
      ],
      "execution_count": null,
      "outputs": []
    },
    {
      "cell_type": "code",
      "metadata": {
        "id": "eWFKZWuPqITz",
        "colab_type": "code",
        "colab": {}
      },
      "source": [
        "raw.load_data()\n",
        "ica.plot_sources(raw_rf)"
      ],
      "execution_count": null,
      "outputs": []
    },
    {
      "cell_type": "code",
      "metadata": {
        "id": "BZeS00EHG3N-",
        "colab_type": "code",
        "colab": {}
      },
      "source": [
        "ica.plot_components()"
      ],
      "execution_count": null,
      "outputs": []
    },
    {
      "cell_type": "code",
      "metadata": {
        "id": "IKicJGmObuUH",
        "colab_type": "code",
        "colab": {}
      },
      "source": [
        "ica.plot_properties(raw_rf, picks=[0,1,2,3,4,5,6,7,8,9,10,11,12])"
      ],
      "execution_count": null,
      "outputs": []
    },
    {
      "cell_type": "code",
      "metadata": {
        "id": "FpeZVn3oKxte",
        "colab_type": "code",
        "colab": {}
      },
      "source": [
        "reconst_raw = raw_rf.copy()\n",
        "reconst_raw = ica.apply(reconst_raw)\n",
        "\n",
        "reconst_raw.plot(duration=60, start=40 , highpass=4, lowpass=13 )"
      ],
      "execution_count": null,
      "outputs": []
    },
    {
      "cell_type": "code",
      "metadata": {
        "id": "nGzMoCJqCYlz",
        "colab_type": "code",
        "colab": {}
      },
      "source": [
        "reconst_raw.info"
      ],
      "execution_count": null,
      "outputs": []
    },
    {
      "cell_type": "code",
      "metadata": {
        "id": "buX-_4xCU5-z",
        "colab_type": "code",
        "colab": {}
      },
      "source": [
        "## Filter from 4 to 13 "
      ],
      "execution_count": null,
      "outputs": []
    },
    {
      "cell_type": "code",
      "metadata": {
        "id": "6yMZFx8ECVaq",
        "colab_type": "code",
        "colab": {}
      },
      "source": [
        "fin_data = reconst_raw.copy()\n",
        "fin_data.filter(4,13) # we are going to see the alpha and theta which have range 4 to 13"
      ],
      "execution_count": null,
      "outputs": []
    },
    {
      "cell_type": "code",
      "metadata": {
        "id": "sZxN3SKoCdgJ",
        "colab_type": "code",
        "colab": {}
      },
      "source": [
        "fin_data.info"
      ],
      "execution_count": null,
      "outputs": []
    },
    {
      "cell_type": "code",
      "metadata": {
        "id": "wQKUQHacCk4W",
        "colab_type": "code",
        "colab": {}
      },
      "source": [
        "fin_data.plot(start= 40, duration=60, lowpass=4, highpass=13)"
      ],
      "execution_count": null,
      "outputs": []
    },
    {
      "cell_type": "code",
      "metadata": {
        "id": "3KGFNTD5CnrA",
        "colab_type": "code",
        "colab": {}
      },
      "source": [
        "fin_data.plot_psd()"
      ],
      "execution_count": null,
      "outputs": []
    },
    {
      "cell_type": "code",
      "metadata": {
        "id": "iRzFCYkPvX-a",
        "colab_type": "code",
        "colab": {}
      },
      "source": [
        "fin_data.plot_sensors(kind='topomap',)"
      ],
      "execution_count": null,
      "outputs": []
    },
    {
      "cell_type": "code",
      "metadata": {
        "id": "BR-4fjpuC8Cb",
        "colab_type": "code",
        "colab": {}
      },
      "source": [
        "p1_lev1_no = fin_data.get_data()"
      ],
      "execution_count": null,
      "outputs": []
    },
    {
      "cell_type": "code",
      "metadata": {
        "id": "UT4KwpRlDw9M",
        "colab_type": "code",
        "colab": {}
      },
      "source": [
        "p1_lev1_no.shape"
      ],
      "execution_count": null,
      "outputs": []
    },
    {
      "cell_type": "code",
      "metadata": {
        "id": "oc5CqqVW9NDs",
        "colab_type": "code",
        "colab": {}
      },
      "source": [
        "list_ex = []"
      ],
      "execution_count": null,
      "outputs": []
    },
    {
      "cell_type": "code",
      "metadata": {
        "id": "ixo8Eq9fSFXm",
        "colab_type": "code",
        "colab": {}
      },
      "source": [
        "c = p1_lev1_no[3].tolist()\n",
        "list_ex.append(c)"
      ],
      "execution_count": null,
      "outputs": []
    },
    {
      "cell_type": "markdown",
      "metadata": {
        "id": "7JDBgBczH_KM",
        "colab_type": "text"
      },
      "source": [
        ""
      ]
    },
    {
      "cell_type": "code",
      "metadata": {
        "id": "XaegOKSg9Lln",
        "colab_type": "code",
        "colab": {}
      },
      "source": [
        "list_ex"
      ],
      "execution_count": null,
      "outputs": []
    },
    {
      "cell_type": "code",
      "metadata": {
        "id": "ZCZdEwWm9QM0",
        "colab_type": "code",
        "colab": {}
      },
      "source": [
        ""
      ],
      "execution_count": null,
      "outputs": []
    }
  ]
}